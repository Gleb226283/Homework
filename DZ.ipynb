{
 "cells": [
  {
   "cell_type": "code",
   "execution_count": null,
   "id": "7a40ee23-1c58-4058-84e9-9c276f145800",
   "metadata": {},
   "outputs": [],
   "source": [
    "year = int(input(\"Введите год: \"))\n",
    "for i in range(1000,10000):\n",
    "    if year % 4 == 0:\n",
    "        print(\"Високосный год\")\n",
    "        break\n",
    "    else:\n",
    "        print(\"Обычный год\")\n",
    "        break"
   ]
  }
 ],
 "metadata": {
  "kernelspec": {
   "display_name": "Python 3 (ipykernel)",
   "language": "python",
   "name": "python3"
  },
  "language_info": {
   "codemirror_mode": {
    "name": "ipython",
    "version": 3
   },
   "file_extension": ".py",
   "mimetype": "text/x-python",
   "name": "python",
   "nbconvert_exporter": "python",
   "pygments_lexer": "ipython3",
   "version": "3.13.7"
  }
 },
 "nbformat": 4,
 "nbformat_minor": 5
}
